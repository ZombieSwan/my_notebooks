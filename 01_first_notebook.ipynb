{
 "cells": [
  {
   "cell_type": "code",
   "execution_count": null,
   "id": "6bd7dc84",
   "metadata": {},
   "outputs": [],
   "source": []
  },
  {
   "cell_type": "markdown",
   "id": "d36b8985",
   "metadata": {},
   "source": [
    "# Introduction\n",
    "'This is my _first_ Jupyter notebook'"
   ]
  },
  {
   "cell_type": "code",
   "execution_count": 2,
   "id": "fb5a5035",
   "metadata": {},
   "outputs": [],
   "source": [
    "x= 5\n",
    "y= 6\n",
    "z= x + y"
   ]
  },
  {
   "cell_type": "code",
   "execution_count": 3,
   "id": "7f6c4f6f",
   "metadata": {},
   "outputs": [
    {
     "name": "stdout",
     "output_type": "stream",
     "text": [
      "11\n"
     ]
    }
   ],
   "source": [
    "print(z)"
   ]
  }
 ],
 "metadata": {
  "kernelspec": {
   "display_name": "Python 3 (ipykernel)",
   "language": "python",
   "name": "python3"
  },
  "language_info": {
   "codemirror_mode": {
    "name": "ipython",
    "version": 3
   },
   "file_extension": ".py",
   "mimetype": "text/x-python",
   "name": "python",
   "nbconvert_exporter": "python",
   "pygments_lexer": "ipython3",
   "version": "3.11.2"
  }
 },
 "nbformat": 4,
 "nbformat_minor": 5
}
